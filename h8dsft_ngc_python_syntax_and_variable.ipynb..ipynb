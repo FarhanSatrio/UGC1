customer_id = ['B818', 'A461', 'A092', 'A082', 'B341', 'A005', 'A092', 'A461',
               'B219', 'B904', 'A901', 'A083', 'B904', 'A092', 'B341', 'B821',
               'B341', 'B821', 'B904', 'B818', 'A901', 'A083', 'B818', 'A082',
               'B219', 'B219', 'A083', 'A901', 'A082', 'B341', 'B341', 'A083',
               'A082', 'B219', 'B439', 'A461', 'A005', 'A901', 'B341', 'A082',
               'A083', 'A461', 'A083', 'A901', 'A461', 'A083', 'A082', 'A083',
               'B341', 'A901', 'A082', 'A461', 'B219', 'A083', 'B818', 'B821',
               'A092', 'B341', 'A461', 'A092', 'A083', 'B821', 'A092']
#Unique Code List
unique_id = set(customer_id)
print(unique_id)
#Jumlah Unique Code
total_unique_id = len(unique_id)
print(total_unique_id)

Data = [1, 4, 9, 16, 25, 36, 49,  64, 81, 100]
print(Data[3])
print(Data[5:9])
print(Data[::-1])

provinsi = {'Nanggroe Aceh Darussalam': 'Aceh',
            'Sumatera Selatan': 'Palembang',
            'Kalimantan Barat': 'Pontianak',
            'Jawa Timur': 'Madiun',
            'Sulawesi Selatan': 'Makassar',
            'Maluku': 'Ambon'}
provinsi['Jawa Timur'] = 'Surabaya'
print(provinsi)